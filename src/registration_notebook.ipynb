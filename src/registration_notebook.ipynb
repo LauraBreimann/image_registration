{
 "cells": [
  {
   "cell_type": "markdown",
   "id": "f9013a96",
   "metadata": {},
   "source": [
    "# Notebook to apply a tranfromation matrix to images"
   ]
  },
  {
   "cell_type": "markdown",
   "id": "b9cb3eb1",
   "metadata": {},
   "source": [
    "This script applies a transformation matrix to align images either using split channels (part a) or multichannel images (part b). "
   ]
  },
  {
   "cell_type": "markdown",
   "id": "6a6d116f",
   "metadata": {},
   "source": [
    "\n",
    "## Apply Chromatic Alignment (Split Channel Mode — Preserve Structure)\n",
    "This section of the notebook applies chromatic aberration correction based on a transformation matrix to individual image files using a mapping defined in a CSV (one file per channel, timepoint, and FOV)."
   ]
  },
  {
   "cell_type": "markdown",
   "id": "1f0c56ba",
   "metadata": {},
   "source": [
    "### Step 1 – Set up paths and user settings"
   ]
  },
  {
   "cell_type": "code",
   "execution_count": null,
   "id": "0b46d701",
   "metadata": {},
   "outputs": [],
   "source": [
    "import os\n",
    "from channel_alignment import process_individual_files_from_csv\n",
    "\n",
    "#=============== INPUTS ===============\n",
    "channel_map_file = \"../metadata/channel_map.csv\"   # CSV with fov, timepoint, channel, filepath\n",
    "transformation_file = \"../transformations/transformation_dicts.json\"\n",
    "microscope_name = \"Microscope 1\"\n",
    "\n",
    "#=============== OUTPUTS ===============\n",
    "output_root = \"../data/aligned\"  # Aligned images will be saved here\n",
    "suffix = \"_aligned\"              # Optional output suffix\n",
    "\n",
    "#=============== Ensure output folder exists ===============\n",
    "os.makedirs(output_root, exist_ok=True)\n"
   ]
  },
  {
   "cell_type": "markdown",
   "id": "da103910",
   "metadata": {},
   "source": [
    "### Step 2 – Run alignment!"
   ]
  },
  {
   "cell_type": "code",
   "execution_count": null,
   "id": "51d80cbf",
   "metadata": {},
   "outputs": [],
   "source": [
    "process_individual_files_from_csv(\n",
    "channel_map_file=channel_map_file,\n",
    "output_root=output_root,\n",
    "transformation_file=transformation_file,\n",
    "microscope=microscope_name,\n",
    "suffix=suffix\n",
    ")"
   ]
  },
  {
   "cell_type": "markdown",
   "id": "6422c4ed",
   "metadata": {},
   "source": [
    "### Step 3 – Visual sanity check (optional)"
   ]
  },
  {
   "cell_type": "code",
   "execution_count": null,
   "id": "3124e5be",
   "metadata": {},
   "outputs": [],
   "source": [
    "#TODO"
   ]
  },
  {
   "cell_type": "markdown",
   "id": "9e7fcf9f",
   "metadata": {},
   "source": [
    "### Step 4: Structural Similarty check"
   ]
  },
  {
   "cell_type": "code",
   "execution_count": null,
   "id": "dec42425",
   "metadata": {},
   "outputs": [],
   "source": [
    "#TODO"
   ]
  },
  {
   "cell_type": "markdown",
   "id": "96b8a0a0",
   "metadata": {},
   "source": [
    "## Apply Chromatic Alignment (Multichannel TIFF Mode)\n",
    "This part of the notebook applies chromatic aberration correction to 3D multichannel TIFF stacks, using a transformation matrix stored in a user-defined JSON file."
   ]
  },
  {
   "cell_type": "markdown",
   "id": "a0a5bc02",
   "metadata": {},
   "source": [
    "### Step 1 – Set user-defined paths and settings"
   ]
  },
  {
   "cell_type": "code",
   "execution_count": null,
   "id": "2ff91daf",
   "metadata": {},
   "outputs": [],
   "source": [
    "\n",
    "import os\n",
    "from channel_alignment import process_folder\n",
    "\n",
    "#=============== Required inputs ===============\n",
    "input_folder = \"../data/raw_multichannel\"\n",
    "output_folder = \"../data/aligned_multichannel\"\n",
    "\n",
    "transformation_file = \"../transformations/transformation_dicts.json\"\n",
    "microscope_name = \"Microscope 1\"\n",
    "\n",
    "#=============== Order of channels in your TIFFs (must match JSON keys) ===============\n",
    "channel_labels = [\"ch1\", \"ch2\", \"ch3\"]  # e.g., [\"488\", \"561\", \"640\"] or custom names\n",
    "\n",
    "#=============== Create output folder ===============\n",
    "os.makedirs(output_folder, exist_ok=True)\n",
    "\n"
   ]
  },
  {
   "cell_type": "markdown",
   "id": "2da6b0cb",
   "metadata": {},
   "source": [
    "### Step 2 – Run alignment\n",
    "This function will:\n",
    "\n",
    "Load each multichannel TIFF in the input folder (expects [C, Z, Y, X]).\n",
    "\n",
    "Apply channel-specific affine transformation.\n",
    "\n",
    "Save aligned image (same shape) with _aligned suffix."
   ]
  },
  {
   "cell_type": "code",
   "execution_count": null,
   "id": "d5d1aa64",
   "metadata": {},
   "outputs": [],
   "source": [
    "\n",
    "process_folder(\n",
    "input_folder=input_folder,\n",
    "output_folder=output_folder,\n",
    "transformation_file=transformation_file,\n",
    "microscope_name=microscope_name,\n",
    "channel_labels=channel_labels\n",
    ")"
   ]
  },
  {
   "cell_type": "markdown",
   "id": "96f09d95",
   "metadata": {},
   "source": [
    "### Step 3 – Visualize before & after"
   ]
  },
  {
   "cell_type": "code",
   "execution_count": null,
   "id": "3b7f01e1",
   "metadata": {},
   "outputs": [],
   "source": [
    "import tifffile\n",
    "import matplotlib.pyplot as plt\n",
    "\n",
    "filename = \"sample_stack.tif\"\n",
    "\n",
    "original_path = os.path.join(input_folder, filename)\n",
    "aligned_path = os.path.join(output_folder, filename.replace(\".tif\", \"_aligned.tif\"))\n",
    "\n",
    "original = tifffile.imread(original_path)\n",
    "aligned = tifffile.imread(aligned_path)\n",
    "\n",
    "#Visualize 1st Z-slice of first two channels\n",
    "z_slice = 0\n",
    "\n",
    "fig, axes = plt.subplots(2, 2, figsize=(10, 8))\n",
    "axes[0, 0].imshow(original[0, z_slice], cmap=\"gray\")\n",
    "axes[0, 0].set_title(\"Channel 1 (original)\")\n",
    "axes[0, 0].axis(\"off\")\n",
    "\n",
    "axes[0, 1].imshow(aligned[0, z_slice], cmap=\"gray\")\n",
    "axes[0, 1].set_title(\"Channel 1 (aligned)\")\n",
    "axes[0, 1].axis(\"off\")\n",
    "\n",
    "axes[1, 0].imshow(original[1, z_slice], cmap=\"gray\")\n",
    "axes[1, 0].set_title(\"Channel 2 (original)\")\n",
    "axes[1, 0].axis(\"off\")\n",
    "\n",
    "axes[1, 1].imshow(aligned[1, z_slice], cmap=\"gray\")\n",
    "axes[1, 1].set_title(\"Channel 2 (aligned)\")\n",
    "axes[1, 1].axis(\"off\")\n",
    "\n",
    "plt.tight_layout()\n",
    "plt.show()"
   ]
  },
  {
   "cell_type": "markdown",
   "id": "4e41eae7",
   "metadata": {},
   "source": [
    "### Step 4: SSIM"
   ]
  },
  {
   "cell_type": "code",
   "execution_count": null,
   "id": "99d48c48",
   "metadata": {},
   "outputs": [],
   "source": [
    "#TODO"
   ]
  }
 ],
 "metadata": {
  "kernelspec": {
   "display_name": "image_analysis",
   "language": "python",
   "name": "python3"
  },
  "language_info": {
   "codemirror_mode": {
    "name": "ipython",
    "version": 3
   },
   "file_extension": ".py",
   "mimetype": "text/x-python",
   "name": "python",
   "nbconvert_exporter": "python",
   "pygments_lexer": "ipython3",
   "version": "3.9.16"
  }
 },
 "nbformat": 4,
 "nbformat_minor": 5
}
